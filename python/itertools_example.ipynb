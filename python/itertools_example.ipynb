{
 "cells": [
  {
   "cell_type": "code",
   "execution_count": 1,
   "metadata": {},
   "outputs": [],
   "source": [
    "import itertools as it\n",
    "\n"
   ]
  },
  {
   "cell_type": "markdown",
   "metadata": {},
   "source": [
    "# Infinite Iterators"
   ]
  },
  {
   "cell_type": "markdown",
   "metadata": {},
   "source": [
    "### 1. count : we can generate an infinite sequence of evenly spaced using count function."
   ]
  },
  {
   "cell_type": "code",
   "execution_count": 3,
   "metadata": {},
   "outputs": [
    {
     "name": "stdout",
     "output_type": "stream",
     "text": [
      "10\n",
      "11\n",
      "12\n",
      "13\n",
      "14\n",
      "15\n"
     ]
    }
   ],
   "source": [
    "start = 10\n",
    "stop = 1\n",
    "my_counter = it.count(start, stop)\n",
    "for i in my_counter:\n",
    "    # this loop will run for ever\n",
    "    print(i)\n",
    "    if i ==15:\n",
    "        break"
   ]
  },
  {
   "cell_type": "markdown",
   "metadata": {},
   "source": [
    "### 2. cycle: We can use the cycle method to generate an infinite cycle of elements from the input."
   ]
  },
  {
   "cell_type": "code",
   "execution_count": 6,
   "metadata": {},
   "outputs": [
    {
     "name": "stdout",
     "output_type": "stream",
     "text": [
      "P\n",
      "y\n",
      "t\n",
      "h\n",
      "o\n",
      "n\n"
     ]
    }
   ],
   "source": [
    "my_cycle = it.cycle('Python')\n",
    "for i in my_cycle:\n",
    "    print(i)\n",
    "    if i==\"n\":\n",
    "        break"
   ]
  },
  {
   "cell_type": "markdown",
   "metadata": {},
   "source": [
    "### 3. Repeat: To repeat an item (such as a string or a collection), we can use the repeat() function:"
   ]
  },
  {
   "cell_type": "code",
   "execution_count": 8,
   "metadata": {},
   "outputs": [
    {
     "name": "stdout",
     "output_type": "stream",
     "text": [
      "FM\n",
      "FM\n",
      "FM\n",
      "FM\n"
     ]
    }
   ],
   "source": [
    "to_repeat = 'FM'\n",
    "how_many_times = 4\n",
    "my_repeater = it.repeat(to_repeat, how_many_times)\n",
    "for i in my_repeater:\n",
    "    print(i)"
   ]
  },
  {
   "cell_type": "code",
   "execution_count": null,
   "metadata": {},
   "outputs": [],
   "source": []
  },
  {
   "cell_type": "code",
   "execution_count": null,
   "metadata": {},
   "outputs": [],
   "source": []
  },
  {
   "cell_type": "markdown",
   "metadata": {},
   "source": [
    "# 2. Terminating Iterators"
   ]
  },
  {
   "cell_type": "markdown",
   "metadata": {},
   "source": [
    "### 1. chain: 이 메서드는 모든 입력 이터러블로 하나의 이터레이터를 만들어 냄. 이는 모든 원소가 다 추가될 때까지 순차적으로 이루어짐. 따라서 연속된 시퀀스를 하나의 시퀀스로 다룰 수 있게 해줌."
   ]
  },
  {
   "cell_type": "code",
   "execution_count": 10,
   "metadata": {},
   "outputs": [
    {
     "name": "stdout",
     "output_type": "stream",
     "text": [
      "1\n",
      "2\n",
      "3\n",
      "a\n",
      "b\n",
      "c\n",
      "End\n"
     ]
    }
   ],
   "source": [
    "chain = it.chain([1,2,3], ['a','b','c'], ['End'])\n",
    "for i in chain:\n",
    "    print(i)"
   ]
  },
  {
   "cell_type": "markdown",
   "metadata": {},
   "source": [
    "### 2. dropwhile: 조건이 false가 될 때까지 원소들은 무시하고, 이후부터 출력함."
   ]
  },
  {
   "cell_type": "code",
   "execution_count": 11,
   "metadata": {},
   "outputs": [
    {
     "name": "stdout",
     "output_type": "stream",
     "text": [
      "job10\n",
      "job4\n",
      "job5\n"
     ]
    }
   ],
   "source": [
    "jobs = ['job1', 'job2', 'job3', 'job10', 'job4', 'job5']\n",
    "dropwhile = it.dropwhile(lambda x : len(x)==4, jobs)\n",
    "for i in dropwhile:\n",
    "    print(i)"
   ]
  },
  {
   "cell_type": "markdown",
   "metadata": {},
   "source": [
    "### 3. groupby: 이터러블 내의 '연속된' 원소들을 그룹지음."
   ]
  },
  {
   "cell_type": "code",
   "execution_count": 12,
   "metadata": {},
   "outputs": [
    {
     "name": "stdout",
     "output_type": "stream",
     "text": [
      "Key: F\n",
      "Group: ['F', 'F', 'F']\n",
      "Key: A\n",
      "Group: ['A', 'A']\n",
      "Key: R\n",
      "Group: ['R', 'R']\n",
      "Key: H\n",
      "Group: ['H', 'H', 'H']\n",
      "Key: A\n",
      "Group: ['A', 'A']\n",
      "Key: D\n",
      "Group: ['D', 'D']\n",
      "Key: M\n",
      "Group: ['M', 'M']\n",
      "Key: A\n",
      "Group: ['A', 'A', 'A']\n",
      "Key: L\n",
      "Group: ['L', 'L']\n",
      "Key: I\n",
      "Group: ['I', 'I']\n",
      "Key: K\n",
      "Group: ['K', 'K', 'K']\n"
     ]
    }
   ],
   "source": [
    "\n",
    "iterable = 'FFFAARRHHHAADDMMAAALLIIKKK'\n",
    "my_groupby = it.groupby(iterable)\n",
    "for key, group in my_groupby:\n",
    "    print('Key:', key)\n",
    "    print('Group:', list(group))"
   ]
  },
  {
   "cell_type": "code",
   "execution_count": 13,
   "metadata": {},
   "outputs": [
    {
     "name": "stdout",
     "output_type": "stream",
     "text": [
      "Key: F\n",
      "Group: ['F', 'F', 'F']\n",
      "Key: A\n",
      "Group: ['A', 'A']\n",
      "Key: R\n",
      "Group: ['R', 'R']\n",
      "Key: ㅁ\n",
      "Group: ['ㅁ']\n",
      "Key: H\n",
      "Group: ['H', 'H', 'H']\n",
      "Key: ㅁ\n",
      "Group: ['ㅁ']\n",
      "Key: A\n",
      "Group: ['A', 'A']\n",
      "Key: ㅁ\n",
      "Group: ['ㅁ']\n",
      "Key: D\n",
      "Group: ['D']\n",
      "Key: ㅁ\n",
      "Group: ['ㅁ']\n",
      "Key: D\n",
      "Group: ['D']\n",
      "Key: ㅁ\n",
      "Group: ['ㅁ']\n",
      "Key: M\n",
      "Group: ['M']\n",
      "Key: ㅁ\n",
      "Group: ['ㅁ']\n",
      "Key: M\n",
      "Group: ['M']\n",
      "Key: ㅁ\n",
      "Group: ['ㅁ']\n",
      "Key: A\n",
      "Group: ['A', 'A', 'A']\n",
      "Key: L\n",
      "Group: ['L', 'L']\n",
      "Key: I\n",
      "Group: ['I', 'I']\n",
      "Key: K\n",
      "Group: ['K', 'K', 'K']\n"
     ]
    }
   ],
   "source": [
    "iterable = 'FFFAARRㅁHHHㅁAAㅁDㅁDㅁMㅁMㅁAAALLIIKKK'\n",
    "my_groupby = it.groupby(iterable)\n",
    "for key, group in my_groupby:\n",
    "    print('Key:', key)\n",
    "    print('Group:', list(group))"
   ]
  },
  {
   "cell_type": "markdown",
   "metadata": {},
   "source": [
    "### 4. Tee : 이 메서드는 이터러블을 분할해 입력으로부터 새로운 이터러블을 생성해냄."
   ]
  },
  {
   "cell_type": "code",
   "execution_count": 15,
   "metadata": {},
   "outputs": [
    {
     "name": "stdout",
     "output_type": "stream",
     "text": [
      "['F', 'M']\n",
      "['F', 'M']\n",
      "['F', 'M']\n",
      "['F', 'M']\n",
      "['F', 'M']\n"
     ]
    }
   ],
   "source": [
    "iterable = 'FM'\n",
    "tee = it.tee(iterable, 5)\n",
    "for i in tee:\n",
    "    print(list(i))"
   ]
  },
  {
   "cell_type": "code",
   "execution_count": null,
   "metadata": {},
   "outputs": [],
   "source": []
  },
  {
   "cell_type": "code",
   "execution_count": null,
   "metadata": {},
   "outputs": [],
   "source": []
  },
  {
   "cell_type": "markdown",
   "metadata": {},
   "source": [
    "# 3. Combinatoric Iterators"
   ]
  },
  {
   "cell_type": "markdown",
   "metadata": {},
   "source": [
    "### 1. Permutations: 연속적인 순열을 뱉어냄."
   ]
  },
  {
   "cell_type": "code",
   "execution_count": 30,
   "metadata": {},
   "outputs": [
    {
     "name": "stdout",
     "output_type": "stream",
     "text": [
      "('F', 'M', 'ㅇ')\n",
      "('F', 'M', 'ㅇ')\n",
      "('F', 'ㅇ', 'M')\n",
      "('F', 'ㅇ', 'ㅇ')\n",
      "('F', 'ㅇ', 'M')\n",
      "('F', 'ㅇ', 'ㅇ')\n",
      "('M', 'F', 'ㅇ')\n",
      "('M', 'F', 'ㅇ')\n",
      "('M', 'ㅇ', 'F')\n",
      "('M', 'ㅇ', 'ㅇ')\n",
      "('M', 'ㅇ', 'F')\n",
      "('M', 'ㅇ', 'ㅇ')\n",
      "('ㅇ', 'F', 'M')\n",
      "('ㅇ', 'F', 'ㅇ')\n",
      "('ㅇ', 'M', 'F')\n",
      "('ㅇ', 'M', 'ㅇ')\n",
      "('ㅇ', 'ㅇ', 'F')\n",
      "('ㅇ', 'ㅇ', 'M')\n",
      "('ㅇ', 'F', 'M')\n",
      "('ㅇ', 'F', 'ㅇ')\n",
      "('ㅇ', 'M', 'F')\n",
      "('ㅇ', 'M', 'ㅇ')\n",
      "('ㅇ', 'ㅇ', 'F')\n",
      "('ㅇ', 'ㅇ', 'M')\n"
     ]
    }
   ],
   "source": [
    "iterable = 'FMㅇㅇ'\n",
    "length = 3\n",
    "permutations = it.permutations(iterable, length)\n",
    "for i in permutations:\n",
    "    print(i)"
   ]
  },
  {
   "cell_type": "markdown",
   "metadata": {},
   "source": [
    "### 2. Combinations: 이터러블의 조합을 만들어냄."
   ]
  },
  {
   "cell_type": "code",
   "execution_count": 31,
   "metadata": {},
   "outputs": [
    {
     "name": "stdout",
     "output_type": "stream",
     "text": [
      "('F', 'M', 'ㅇ')\n",
      "('F', 'M', 'ㅇ')\n",
      "('F', 'ㅇ', 'ㅇ')\n",
      "('M', 'ㅇ', 'ㅇ')\n"
     ]
    }
   ],
   "source": [
    "# 중복되는 원소를 구분하지 않음!\n",
    "iterable = 'FMㅇㅇ'\n",
    "combinations = it.combinations(iterable, 3)\n",
    "for i in combinations:\n",
    "    print(i)"
   ]
  },
  {
   "cell_type": "code",
   "execution_count": null,
   "metadata": {},
   "outputs": [],
   "source": []
  }
 ],
 "metadata": {
  "kernelspec": {
   "display_name": "Python 3",
   "language": "python",
   "name": "python3"
  },
  "language_info": {
   "codemirror_mode": {
    "name": "ipython",
    "version": 3
   },
   "file_extension": ".py",
   "mimetype": "text/x-python",
   "name": "python",
   "nbconvert_exporter": "python",
   "pygments_lexer": "ipython3",
   "version": "3.7.6"
  }
 },
 "nbformat": 4,
 "nbformat_minor": 4
}
